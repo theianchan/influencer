{
 "cells": [
  {
   "cell_type": "code",
   "execution_count": 1,
   "metadata": {},
   "outputs": [],
   "source": [
    "from requests import get\n",
    "from requests.exceptions import RequestException\n",
    "from contextlib import closing\n",
    "from bs4 import BeautifulSoup"
   ]
  },
  {
   "cell_type": "code",
   "execution_count": 2,
   "metadata": {},
   "outputs": [],
   "source": [
    "def simple_get(url):\n",
    "    \"\"\"\n",
    "    Attempts to get the content at `url` by making an HTTP GET request.\n",
    "    If the content-type of response is some kind of HTML/XML,\n",
    "    return the text content, else return None\n",
    "    \"\"\"\n",
    "    try: \n",
    "        with closing(get(url, stream=True)) as resp:\n",
    "            if is_good_response(resp):\n",
    "                return resp.content\n",
    "            else:\n",
    "                return None\n",
    "    except RequestException as e:\n",
    "        log_error('Error during requests to {0}: {1}'.format(url, str(e)))\n",
    "        return None"
   ]
  },
  {
   "cell_type": "code",
   "execution_count": 3,
   "metadata": {},
   "outputs": [],
   "source": [
    "def is_good_response(resp):\n",
    "    \"\"\"\n",
    "    Returns true if the response seems to be HTML, false otherwise\n",
    "    \"\"\"\n",
    "    content_type = resp.headers['Content-Type'].lower()\n",
    "    return(resp.status_code == 200\n",
    "           and content_type is not None\n",
    "           and content_type.find('html') > -1)"
   ]
  },
  {
   "cell_type": "code",
   "execution_count": 4,
   "metadata": {},
   "outputs": [],
   "source": [
    "def log_error(e):\n",
    "    \"\"\"\n",
    "    It is always a good idea to log errors. \n",
    "    This function just prints them, but you can make it do anything.\n",
    "    \"\"\"\n",
    "    print(e)"
   ]
  },
  {
   "cell_type": "code",
   "execution_count": 11,
   "metadata": {},
   "outputs": [],
   "source": [
    "url = 'http://www.fabpedigree.com/james/mathmen.htm'"
   ]
  },
  {
   "cell_type": "code",
   "execution_count": 12,
   "metadata": {},
   "outputs": [],
   "source": [
    "raw_html = simple_get(url)"
   ]
  },
  {
   "cell_type": "code",
   "execution_count": 14,
   "metadata": {},
   "outputs": [],
   "source": [
    "html = BeautifulSoup(raw_html, 'html.parser')"
   ]
  },
  {
   "cell_type": "code",
   "execution_count": 20,
   "metadata": {
    "scrolled": false
   },
   "outputs": [
    {
     "name": "stdout",
     "output_type": "stream",
     "text": [
      "0  Isaac Newton\n",
      " Archimedes\n",
      " Carl F. Gauss\n",
      " Leonhard Euler\n",
      " Bernhard Riemann\n",
      "\n",
      "1  Archimedes\n",
      " Carl F. Gauss\n",
      " Leonhard Euler\n",
      " Bernhard Riemann\n",
      "\n",
      "2  Carl F. Gauss\n",
      " Leonhard Euler\n",
      " Bernhard Riemann\n",
      "\n",
      "3  Leonhard Euler\n",
      " Bernhard Riemann\n",
      "\n",
      "4  Bernhard Riemann\n",
      "\n",
      "5  Henri Poincaré\n",
      " Joseph-Louis Lagrange\n",
      " Euclid  of Alexandria\n",
      " David Hilbert\n",
      " Gottfried W. Leibniz\n",
      "\n"
     ]
    }
   ],
   "source": [
    "for i, li in enumerate(html.select('li')[:6]):\n",
    "    print(i, li.text)"
   ]
  },
  {
   "cell_type": "code",
   "execution_count": 21,
   "metadata": {},
   "outputs": [],
   "source": [
    "def get_names():\n",
    "    \"\"\"\n",
    "    Downloads the page where the list of mathematicians is found\n",
    "    and returns a list of strings, one per mathematician\n",
    "    \"\"\"\n",
    "    response = simple_get(url)\n",
    "    if response is not None:\n",
    "        html = BeautifulSoup(response, 'html.parser')\n",
    "        names = set()\n",
    "        for li in html.select('li'):\n",
    "            for name in li.text.split('\\n'):\n",
    "                if len(name) > 0:\n",
    "                    names.add(name.strip())\n",
    "        return list(names)\n",
    "    \n",
    "    # Raise an exception if we failed to get any data from the url\n",
    "    raise Exception('Error retrieving contents at {}'.format(url))"
   ]
  },
  {
   "cell_type": "code",
   "execution_count": 22,
   "metadata": {},
   "outputs": [],
   "source": [
    "def get_hits_on_name(name):\n",
    "    \"\"\"\n",
    "    Accepts a `name` of a mathematician and returns the number\n",
    "    of hits that mathematician's wikipedia page received in the \n",
    "    last 60 days as an `int`\n",
    "    \"\"\"\n",
    "    url_root = 'https://xtools.wmflabs.org/articleinfo/en.wikipedia.org/{}'\n",
    "    response = simple_get(url_root.format(name))\n",
    "    \n",
    "    if response is not None:\n",
    "        html = BeautifulSoup(response, 'html.parser')\n",
    "        hit_link = [a for a in html.select('a')\n",
    "                    if a['href'].find('latest-60') > -1]\n",
    "        \n",
    "        if len(hit_link) > 0:\n",
    "            link_text = hit_link[0].text.replace(',', '')\n",
    "            try: \n",
    "                return int(link_text)\n",
    "            except:\n",
    "                log_error(\"Couldn't parse {} as an `int`\".format(link_text))\n",
    "    \n",
    "    log_error('No pageviews found for {}'.format(name))\n",
    "    return None"
   ]
  },
  {
   "cell_type": "code",
   "execution_count": 44,
   "metadata": {},
   "outputs": [
    {
     "name": "stdout",
     "output_type": "stream",
     "text": [
      "No pageviews found for Adrien M. Legendre\n",
      "No pageviews found for Leonardo `Fibonacci'\n",
      "No pageviews found for Gottfried W. Leibniz\n",
      "No pageviews found for F. L. Gottlob Frege\n",
      "No pageviews found for F. Gotthold Eisenstein\n",
      "No pageviews found for Karl W. T. Weierstrass\n",
      "No pageviews found for M. E. Camille Jordan\n",
      "No pageviews found for James J. Sylvester\n",
      "No pageviews found for F.E.J. Émile Borel\n",
      "No pageviews found for Ernst E. Kummer\n",
      "No pageviews found for Hermann K. H. Weyl\n",
      "No pageviews found for William R. Hamilton\n",
      "No pageviews found for Panini  of Shalatula\n",
      "No pageviews found for Peter G. L. Dirichlet\n",
      "No pageviews found for Bháscara (II) Áchárya\n",
      "No pageviews found for Alhazen ibn al-Haytham\n",
      "No pageviews found for Muhammed al-Khowârizmi\n",
      "No pageviews found for Omar al-Khayyám\n",
      "No pageviews found for Hermann G. Grassmann\n",
      "\n",
      "The most popular mathematicains are:\n",
      "\n",
      "Albert Einstein with 1073992 pageviews\n",
      "Isaac Newton with 514082 pageviews\n",
      "Galileo Galilei with 363680 pageviews\n",
      "Srinivasa Ramanujan with 354573 pageviews\n",
      "Aristotle with 347608 pageviews\n",
      "\n",
      "But we did not find results for 19 mathematicians on the list\n"
     ]
    }
   ],
   "source": [
    "names = get_names()\n",
    "results = []\n",
    "\n",
    "for name in names:\n",
    "    try:\n",
    "        hits = get_hits_on_name(name)\n",
    "        if hits is None:\n",
    "            hits = -1\n",
    "        results.append((hits, name))\n",
    "    except:\n",
    "        results.append((-1, name))\n",
    "        log_error('Error encountered while processing '\n",
    "                  '{}, skipping'.format(name))\n",
    "        \n",
    "results.sort()\n",
    "results.reverse()\n",
    "\n",
    "if len(results) > 5:\n",
    "    top_marks = results[:5]\n",
    "else:\n",
    "    top_marks = results\n",
    "    \n",
    "print('\\nThe most popular mathematicains are:\\n')\n",
    "for (mark, mathematician) in top_marks:\n",
    "    print('{} with {} pageviews'.format(mathematician, mark))\n",
    "\n",
    "no_results = len([res for res in results if res[0] == -1])\n",
    "print('\\nBut we did not find results for '\n",
    "      '{} mathematicians on the list'.format(no_results))"
   ]
  },
  {
   "cell_type": "code",
   "execution_count": null,
   "metadata": {},
   "outputs": [],
   "source": []
  },
  {
   "cell_type": "code",
   "execution_count": null,
   "metadata": {},
   "outputs": [],
   "source": []
  }
 ],
 "metadata": {
  "kernelspec": {
   "display_name": "Python (influencer)",
   "language": "python",
   "name": "influencer"
  },
  "language_info": {
   "codemirror_mode": {
    "name": "ipython",
    "version": 3
   },
   "file_extension": ".py",
   "mimetype": "text/x-python",
   "name": "python",
   "nbconvert_exporter": "python",
   "pygments_lexer": "ipython3",
   "version": "3.6.4"
  }
 },
 "nbformat": 4,
 "nbformat_minor": 2
}
